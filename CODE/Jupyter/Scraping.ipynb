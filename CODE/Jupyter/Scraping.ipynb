{
 "cells": [
  {
   "cell_type": "markdown",
   "metadata": {},
   "source": [
    "# モジュールインポート"
   ]
  },
  {
   "cell_type": "code",
   "execution_count": 56,
   "metadata": {},
   "outputs": [],
   "source": [
    "### 基本モジュール\n",
    "import pandas as pd\n",
    "import numpy as np\n",
    "from datetime import datetime\n",
    "\n",
    "### スクレイピング\n",
    "from bs4 import BeautifulSoup\n",
    "import requests"
   ]
  },
  {
   "cell_type": "markdown",
   "metadata": {},
   "source": [
    "# スクレイピング\n",
    "- https://kabuoji3.com/ より取得"
   ]
  },
  {
   "cell_type": "markdown",
   "metadata": {},
   "source": [
    "## テスト動作"
   ]
  },
  {
   "cell_type": "markdown",
   "metadata": {},
   "source": [
    "### 初期設定＆htmlの取得"
   ]
  },
  {
   "cell_type": "code",
   "execution_count": 57,
   "metadata": {
    "scrolled": true
   },
   "outputs": [],
   "source": [
    "### 初期設定\n",
    "year = 2019            # 取得年\n",
    "stock_num = 6577       # 銘柄コード\n",
    "url = \"https://kabuoji3.com/stock/{}/{}/\".format(stock_num, year)    # urlの指定\n",
    "headers = {    # ユーザエージェント情報　自分が使っているプログラムや機械の情報を示す必要がある　\n",
    "    \"User-Agent\":\"Mozilla/5.0 (Windows NT 10.0; Win64; x64) AppleWebKit/537.36 (KHTML, like Gecko) Chrome/79.0.3945.88 Safari/537.36\"\n",
    "}\n",
    "soup = BeautifulSoup(requests.get(url, headers=headers).content, \"html.parser\")       # HTMLの取得"
   ]
  },
  {
   "cell_type": "markdown",
   "metadata": {},
   "source": [
    "### DataFrameに格納する"
   ]
  },
  {
   "cell_type": "code",
   "execution_count": 58,
   "metadata": {},
   "outputs": [
    {
     "data": {
      "text/plain": [
       "Index(['日付', '始値', '高値', '安値', '終値', '出来高', '終値調整'], dtype='object')"
      ]
     },
     "execution_count": 58,
     "metadata": {},
     "output_type": "execute_result"
    }
   ],
   "source": [
    "tag_tr = soup.find_all(\"tr\")          # <tr>タグの中身を取得する\n",
    "head = [h.text for h in tag_tr[0].find_all(\"th\")]    #<tr>タグの一つ目の<th>タグを取得する\n",
    "\n",
    "### テーブルデータの取得\n",
    "data = []\n",
    "for i in range(1,len(tag_tr)):\n",
    "    data.append([d.text for d in tag_tr[i].find_all(\"td\")])\n",
    "\n",
    "df = pd.DataFrame(data, columns=head)      # dataframeに格納する\n",
    "df.columns"
   ]
  },
  {
   "cell_type": "markdown",
   "metadata": {},
   "source": [
    "### 型変換"
   ]
  },
  {
   "cell_type": "code",
   "execution_count": 59,
   "metadata": {},
   "outputs": [
    {
     "name": "stdout",
     "output_type": "stream",
     "text": [
      "datetime64[ns]\n"
     ]
    }
   ],
   "source": [
    "### float型への変換\n",
    "col = [\"始値\", \"高値\", \"安値\", \"終値\", \"出来高\", \"終値調整\"]\n",
    "for c in col:\n",
    "    df[c] = df[c].astype(\"float\")\n",
    "    \n",
    "### datetimeへの変換\n",
    "df[\"日付\"] = [datetime.strptime(i, \"%Y-%m-%d\") for i in df[\"日付\"]]\n",
    "\n",
    "print(df[\"日付\"].dtypes)"
   ]
  },
  {
   "cell_type": "markdown",
   "metadata": {},
   "source": [
    "### 複数年のデータの取得"
   ]
  },
  {
   "cell_type": "code",
   "execution_count": 65,
   "metadata": {},
   "outputs": [],
   "source": [
    "dfs = []\n",
    "year_list = [2018, 2019]\n",
    "stock_num = 6577       # 銘柄コード\n",
    "\n",
    "for year in year_list:\n",
    "    ### HTMLの取得\n",
    "    url = \"https://kabuoji3.com/stock/{}/{}/\".format(stock_num, year)    # urlの指定\n",
    "    headers = {    # ユーザエージェント情報　自分が使っているプログラムや機械の情報を示す必要がある　\n",
    "                \"User-Agent\":\"Mozilla/5.0 (Windows NT 10.0; Win64; x64) AppleWebKit/537.36 (KHTML, like Gecko) Chrome/79.0.3945.88 Safari/537.36\"\n",
    "              }\n",
    "    soup = BeautifulSoup(requests.get(url, headers=headers).content, \"html.parser\")       # HTMLの取得\n",
    "    \n",
    "    ### DataFrameに格納する\n",
    "    tag_tr = soup.find_all(\"tr\")          # <tr>タグの中身を取得する\n",
    "    head = [h.text for h in tag_tr[0].find_all(\"th\")]    #<tr>タグの一つ目の<th>タグを取得する\n",
    "\n",
    "    ### テーブルデータの取得\n",
    "    data = []\n",
    "    for i in range(1,len(tag_tr)):\n",
    "        data.append([d.text for d in tag_tr[i].find_all(\"td\")])\n",
    "\n",
    "    df = pd.DataFrame(data, columns=head)      # dataframeに格納する\n",
    "    \n",
    "    ### 型変換\n",
    "    ### float型への変換\n",
    "    col = [\"始値\", \"高値\", \"安値\", \"終値\", \"出来高\", \"終値調整\"]\n",
    "    for c in col:\n",
    "        df[c] = df[c].astype(\"float\")\n",
    "    ### datetimeへの変換\n",
    "    df[\"日付\"] = [datetime.strptime(i, \"%Y-%m-%d\") for i in df[\"日付\"]]\n",
    "    \n",
    "    dfs.append(df)\n",
    "    \n",
    "### DataFrameの結合\n",
    "data = pd.concat(dfs, axis=0)\n",
    "data = data.reset_index(drop=True)"
   ]
  },
  {
   "cell_type": "code",
   "execution_count": 69,
   "metadata": {},
   "outputs": [
    {
     "name": "stdout",
     "output_type": "stream",
     "text": [
      "Package                           Version  \n",
      "--------------------------------- ---------\n",
      "asn1crypto                        0.24.0   \n",
      "attrs                             19.1.0   \n",
      "backcall                          0.1.0    \n",
      "beautifulsoup4                    4.8.2    \n",
      "bleach                            3.1.0    \n",
      "boto                              2.49.0   \n",
      "boto3                             1.9.159  \n",
      "botocore                          1.12.159 \n",
      "certifi                           2019.6.16\n",
      "cffi                              1.12.3   \n",
      "chardet                           3.0.4    \n",
      "colorama                          0.4.1    \n",
      "convertdate                       2.1.3    \n",
      "cryptography                      2.7      \n",
      "cycler                            0.10.0   \n",
      "Cython                            0.29.13  \n",
      "decorator                         4.4.0    \n",
      "defusedxml                        0.5.0    \n",
      "docutils                          0.14     \n",
      "entrypoints                       0.3      \n",
      "ephem                             3.7.7.0  \n",
      "fbprophet                         0.5      \n",
      "gensim                            3.7.3    \n",
      "holidays                          0.9.11   \n",
      "idna                              2.8      \n",
      "ipykernel                         5.1.0    \n",
      "ipython                           7.4.0    \n",
      "ipython-genutils                  0.2.0    \n",
      "ipywidgets                        7.4.2    \n",
      "jedi                              0.13.3   \n",
      "Jinja2                            2.10     \n",
      "jmespath                          0.9.4    \n",
      "jpholiday                         0.0.6    \n",
      "jsonschema                        3.0.2    \n",
      "jupyter                           1.0.0    \n",
      "jupyter-client                    5.2.4    \n",
      "jupyter-console                   6.0.0    \n",
      "jupyter-contrib-core              0.3.3    \n",
      "jupyter-contrib-nbextensions      0.5.1    \n",
      "jupyter-core                      4.5.0    \n",
      "jupyter-highlight-selected-word   0.2.0    \n",
      "jupyter-latex-envs                1.4.6    \n",
      "jupyter-nbextensions-configurator 0.4.1    \n",
      "kiwisolver                        1.0.1    \n",
      "lightgbm                          2.2.3    \n",
      "lunardate                         0.2.0    \n",
      "lxml                              4.3.2    \n",
      "MarkupSafe                        1.1.1    \n",
      "matplotlib                        3.0.3    \n",
      "mecab-python-windows              0.996.3  \n",
      "mistune                           0.8.4    \n",
      "mkl-fft                           1.0.10   \n",
      "mkl-random                        1.0.2    \n",
      "nbconvert                         5.4.1    \n",
      "nbformat                          4.4.0    \n",
      "notebook                          5.7.6    \n",
      "numpy                             1.16.2   \n",
      "pandas                            0.24.2   \n",
      "pandas-profiling                  1.4.1    \n",
      "pandocfilters                     1.4.2    \n",
      "parso                             0.3.4    \n",
      "patsy                             0.5.1    \n",
      "pickleshare                       0.7.5    \n",
      "pip                               19.0.3   \n",
      "plotly                            4.0.0    \n",
      "prometheus-client                 0.6.0    \n",
      "prompt-toolkit                    2.0.9    \n",
      "pycparser                         2.19     \n",
      "Pygments                          2.3.1    \n",
      "pyOpenSSL                         19.0.0   \n",
      "pyparsing                         2.3.1    \n",
      "pyrsistent                        0.14.11  \n",
      "PySocks                           1.7.0    \n",
      "pystan                            2.17.1.0 \n",
      "python-dateutil                   2.8.0    \n",
      "pytz                              2018.9   \n",
      "pywinpty                          0.5.5    \n",
      "PyYAML                            5.1      \n",
      "pyzmq                             18.0.1   \n",
      "qtconsole                         4.4.3    \n",
      "requests                          2.22.0   \n",
      "retrying                          1.3.3    \n",
      "s3transfer                        0.2.0    \n",
      "scikit-learn                      0.20.3   \n",
      "scipy                             1.2.1    \n",
      "seaborn                           0.9.0    \n",
      "Send2Trash                        1.5.0    \n",
      "setuptools                        40.8.0   \n",
      "six                               1.12.0   \n",
      "smart-open                        1.8.3    \n",
      "soupsieve                         1.9.5    \n",
      "statsmodels                       0.9.0    \n",
      "terminado                         0.8.1    \n",
      "testpath                          0.4.2    \n",
      "tornado                           6.0.2    \n",
      "traitlets                         4.3.2    \n",
      "urllib3                           1.25.3   \n",
      "wcwidth                           0.1.7    \n",
      "webencodings                      0.5.1    \n",
      "wheel                             0.33.1   \n",
      "widgetsnbextension                3.4.2    \n",
      "win-inet-pton                     1.1.0    \n",
      "wincertstore                      0.2      \n",
      "xlrd                              1.2.0    \n"
     ]
    }
   ],
   "source": [
    "! pip list"
   ]
  },
  {
   "cell_type": "markdown",
   "metadata": {},
   "source": [
    "## 本番"
   ]
  },
  {
   "cell_type": "code",
   "execution_count": null,
   "metadata": {},
   "outputs": [],
   "source": []
  }
 ],
 "metadata": {
  "kernelspec": {
   "display_name": "Environment (conda_ml_test)",
   "language": "python",
   "name": "conda_ml_test"
  },
  "language_info": {
   "codemirror_mode": {
    "name": "ipython",
    "version": 3
   },
   "file_extension": ".py",
   "mimetype": "text/x-python",
   "name": "python",
   "nbconvert_exporter": "python",
   "pygments_lexer": "ipython3",
   "version": "3.6.8"
  },
  "toc": {
   "base_numbering": 1,
   "nav_menu": {},
   "number_sections": true,
   "sideBar": true,
   "skip_h1_title": false,
   "title_cell": "Table of Contents",
   "title_sidebar": "Contents",
   "toc_cell": false,
   "toc_position": {
    "height": "calc(100% - 180px)",
    "left": "10px",
    "top": "150px",
    "width": "165px"
   },
   "toc_section_display": true,
   "toc_window_display": true
  }
 },
 "nbformat": 4,
 "nbformat_minor": 2
}
