{
 "cells": [
  {
   "cell_type": "markdown",
   "metadata": {},
   "source": [
    "# モジュールインポート"
   ]
  },
  {
   "cell_type": "code",
   "execution_count": 56,
   "metadata": {},
   "outputs": [],
   "source": [
    "### 基本モジュール\n",
    "import pandas as pd\n",
    "import numpy as np\n",
    "from datetime import datetime\n",
    "\n",
    "### スクレイピング\n",
    "from bs4 import BeautifulSoup\n",
    "import requests"
   ]
  },
  {
   "cell_type": "markdown",
   "metadata": {},
   "source": [
    "# スクレイピング\n",
    "- https://kabuoji3.com/ より取得"
   ]
  },
  {
   "cell_type": "markdown",
   "metadata": {},
   "source": [
    "## テスト動作"
   ]
  },
  {
   "cell_type": "markdown",
   "metadata": {},
   "source": [
    "### 初期設定＆htmlの取得"
   ]
  },
  {
   "cell_type": "code",
   "execution_count": 57,
   "metadata": {
    "scrolled": true
   },
   "outputs": [],
   "source": [
    "### 初期設定\n",
    "year = 2019            # 取得年\n",
    "stock_num = 6577       # 銘柄コード\n",
    "url = \"https://kabuoji3.com/stock/{}/{}/\".format(stock_num, year)    # urlの指定\n",
    "headers = {    # ユーザエージェント情報　自分が使っているプログラムや機械の情報を示す必要がある　\n",
    "    \"User-Agent\":\"Mozilla/5.0 (Windows NT 10.0; Win64; x64) AppleWebKit/537.36 (KHTML, like Gecko) Chrome/79.0.3945.88 Safari/537.36\"\n",
    "}\n",
    "soup = BeautifulSoup(requests.get(url, headers=headers).content, \"html.parser\")       # HTMLの取得"
   ]
  },
  {
   "cell_type": "markdown",
   "metadata": {},
   "source": [
    "### DataFrameに格納する"
   ]
  },
  {
   "cell_type": "code",
   "execution_count": 58,
   "metadata": {},
   "outputs": [
    {
     "data": {
      "text/plain": [
       "Index(['日付', '始値', '高値', '安値', '終値', '出来高', '終値調整'], dtype='object')"
      ]
     },
     "execution_count": 58,
     "metadata": {},
     "output_type": "execute_result"
    }
   ],
   "source": [
    "tag_tr = soup.find_all(\"tr\")          # <tr>タグの中身を取得する\n",
    "head = [h.text for h in tag_tr[0].find_all(\"th\")]    #<tr>タグの一つ目の<th>タグを取得する\n",
    "\n",
    "### テーブルデータの取得\n",
    "data = []\n",
    "for i in range(1,len(tag_tr)):\n",
    "    data.append([d.text for d in tag_tr[i].find_all(\"td\")])\n",
    "\n",
    "df = pd.DataFrame(data, columns=head)      # dataframeに格納する\n",
    "df.columns"
   ]
  },
  {
   "cell_type": "markdown",
   "metadata": {},
   "source": [
    "### 型変換"
   ]
  },
  {
   "cell_type": "code",
   "execution_count": 59,
   "metadata": {},
   "outputs": [
    {
     "name": "stdout",
     "output_type": "stream",
     "text": [
      "datetime64[ns]\n"
     ]
    }
   ],
   "source": [
    "### float型への変換\n",
    "col = [\"始値\", \"高値\", \"安値\", \"終値\", \"出来高\", \"終値調整\"]\n",
    "for c in col:\n",
    "    df[c] = df[c].astype(\"float\")\n",
    "    \n",
    "### datetimeへの変換\n",
    "df[\"日付\"] = [datetime.strptime(i, \"%Y-%m-%d\") for i in df[\"日付\"]]\n",
    "\n",
    "print(df[\"日付\"].dtypes)"
   ]
  },
  {
   "cell_type": "markdown",
   "metadata": {},
   "source": [
    "### 複数年のデータの取得"
   ]
  },
  {
   "cell_type": "code",
   "execution_count": 60,
   "metadata": {},
   "outputs": [],
   "source": [
    "dfs = []\n",
    "year_list = [2018, 2019]\n",
    "stock_num = 6577       # 銘柄コード\n",
    "\n",
    "for year in year_list:\n",
    "    ### HTMLの取得\n",
    "    url = \"https://kabuoji3.com/stock/{}/{}/\".format(stock_num, year)    # urlの指定\n",
    "    headers = {    # ユーザエージェント情報　自分が使っているプログラムや機械の情報を示す必要がある　\n",
    "                \"User-Agent\":\"Mozilla/5.0 (Windows NT 10.0; Win64; x64) AppleWebKit/537.36 (KHTML, like Gecko) Chrome/79.0.3945.88 Safari/537.36\"\n",
    "              }\n",
    "    soup = BeautifulSoup(requests.get(url, headers=headers).content, \"html.parser\")       # HTMLの取得\n",
    "    \n",
    "    ### DataFrameに格納する\n",
    "    tag_tr = soup.find_all(\"tr\")          # <tr>タグの中身を取得する\n",
    "    head = [h.text for h in tag_tr[0].find_all(\"th\")]    #<tr>タグの一つ目の<th>タグを取得する\n",
    "\n",
    "    ### テーブルデータの取得\n",
    "    data = []\n",
    "    for i in range(1,len(tag_tr)):\n",
    "        data.append([d.text for d in tag_tr[i].find_all(\"td\")])\n",
    "\n",
    "    df = pd.DataFrame(data, columns=head)      # dataframeに格納する\n",
    "    \n",
    "    ### 型変換\n",
    "    ### float型への変換\n",
    "    col = [\"始値\", \"高値\", \"安値\", \"終値\", \"出来高\", \"終値調整\"]\n",
    "    for c in col:\n",
    "        df[c] = df[c].astype(\"float\")\n",
    "    ### datetimeへの変換\n",
    "    df[\"日付\"] = [datetime.strptime(i, \"%Y-%m-%d\") for i in df[\"日付\"]]\n",
    "\n",
    "\n"
   ]
  },
  {
   "cell_type": "markdown",
   "metadata": {},
   "source": [
    "## 本番"
   ]
  },
  {
   "cell_type": "code",
   "execution_count": null,
   "metadata": {},
   "outputs": [],
   "source": []
  }
 ],
 "metadata": {
  "kernelspec": {
   "display_name": "Environment (conda_ml_test)",
   "language": "python",
   "name": "conda_ml_test"
  },
  "language_info": {
   "codemirror_mode": {
    "name": "ipython",
    "version": 3
   },
   "file_extension": ".py",
   "mimetype": "text/x-python",
   "name": "python",
   "nbconvert_exporter": "python",
   "pygments_lexer": "ipython3",
   "version": "3.6.8"
  },
  "toc": {
   "base_numbering": 1,
   "nav_menu": {},
   "number_sections": true,
   "sideBar": true,
   "skip_h1_title": false,
   "title_cell": "Table of Contents",
   "title_sidebar": "Contents",
   "toc_cell": false,
   "toc_position": {
    "height": "calc(100% - 180px)",
    "left": "10px",
    "top": "150px",
    "width": "165px"
   },
   "toc_section_display": true,
   "toc_window_display": true
  }
 },
 "nbformat": 4,
 "nbformat_minor": 2
}
